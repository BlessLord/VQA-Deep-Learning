{
 "cells": [
  {
   "cell_type": "code",
   "execution_count": 1,
   "metadata": {},
   "outputs": [
    {
     "name": "stderr",
     "output_type": "stream",
     "text": [
      "/usr/local/lib/python3.5/dist-packages/h5py/__init__.py:36: FutureWarning: Conversion of the second argument of issubdtype from `float` to `np.floating` is deprecated. In future, it will be treated as `np.float64 == np.dtype(float).type`.\n",
      "  from ._conv import register_converters as _register_converters\n",
      "Using TensorFlow backend.\n"
     ]
    }
   ],
   "source": [
    "from __future__ import absolute_import\n",
    "from __future__ import print_function\n",
    "import os\n",
    "import glob\n",
    "import random\n",
    "import numpy as np\n",
    "from keras import optimizers\n",
    "from keras.layers import LSTM\n",
    "from keras.models import Sequential, Model\n",
    "from keras.applications.vgg16 import VGG16\n",
    "from keras.layers.wrappers import TimeDistributed\n",
    "from keras.applications.mobilenet import MobileNet\n",
    "from keras.layers import Conv2D, MaxPooling2D, Dropout, Flatten, Dense, GlobalAveragePooling2D\n",
    "from keras.layers import Input, InputLayer\n",
    "from keras.layers.core import Activation, Flatten, Reshape\n",
    "from keras.layers.convolutional import Convolution2D, MaxPooling2D, UpSampling2D\n",
    "from keras.layers.normalization import BatchNormalization\n",
    "from keras.utils import np_utils\n",
    "from keras.applications import imagenet_utils"
   ]
  },
  {
   "cell_type": "code",
   "execution_count": 2,
   "metadata": {},
   "outputs": [],
   "source": [
    "videoFiles = glob.glob('../dataset/first-set/numpys/*.npy')\n",
    "mosFiles = [i for i in videoFiles if 'mos' in i]\n",
    "videoFiles = [i for i in videoFiles if 'mos' not in i]"
   ]
  },
  {
   "cell_type": "code",
   "execution_count": 3,
   "metadata": {},
   "outputs": [],
   "source": [
    "def myGenerator():\n",
    "    while True:\n",
    "        index_list = random.sample(range(1, 80), 2)\n",
    "        alldata_x = []\n",
    "        alldata_y = []\n",
    "        for i in index_list:\n",
    "            f = videoFiles[i]\n",
    "            s = f[:-4]+'_mos.npy'\n",
    "            a = np.load(f)\n",
    "            b = np.load(s)\n",
    "            alldata_x.append(a)\n",
    "            alldata_y.append(b[0])\n",
    "        alldata_x = np.array(alldata_x)\n",
    "        #alldata_x = np.rollaxis(alldata_x, 1, 5)  \n",
    "        #alldata_x = alldata_x.reshape((32, 30, height, width, 3))\n",
    "        #alldata_x = np.swapaxes(alldata_x, 1, 4)\n",
    "        alldata_y = np.array(alldata_y)\n",
    "        yield alldata_x, alldata_y\n",
    "#x = myGenerator()\n",
    "#xtrain, ytrain = next(x)\n",
    "#print('xtrain shape:',xtrain.shape)\n",
    "#print('ytrain shape:',ytrain.shape)"
   ]
  },
  {
   "cell_type": "code",
   "execution_count": 4,
   "metadata": {},
   "outputs": [],
   "source": [
    "height = 68\n",
    "width = 120\n",
    "input_shape=(200, height, width, 3)"
   ]
  },
  {
   "cell_type": "code",
   "execution_count": 5,
   "metadata": {},
   "outputs": [],
   "source": [
    "def mySegNet(input_shape):\n",
    "    base_model  = MobileNet(input_shape=(224,224,3), include_top=False)\n",
    "    x = base_model.output\n",
    "    x = GlobalAveragePooling2D()(x)\n",
    "    cnn_model = Model(inputs=base_model.input, outputs=x)\n",
    "    \n",
    "    model = Sequential();\n",
    "    #model.add(InputLayer(input_shape=input_shape))\n",
    "    model.add(TimeDistributed(cnn_model, input_shape=input_shape))\n",
    "    model.add(TimeDistributed(Flatten()))\n",
    "    #model.add(cnn_model)\n",
    "    #model.add(Flatten())\n",
    "    \n",
    "    model.add(LSTM(50, return_sequences=False))\n",
    "    model.add(Dense(5, activation='softmax'))\n",
    "    model.compile(optimizer='adam', loss='mean_squared_error')\n",
    "    print(model.summary())\n",
    "    return model \n",
    "#mySegNet(input_shape)"
   ]
  },
  {
   "cell_type": "code",
   "execution_count": 6,
   "metadata": {},
   "outputs": [
    {
     "name": "stdout",
     "output_type": "stream",
     "text": [
      "_________________________________________________________________\n",
      "Layer (type)                 Output Shape              Param #   \n",
      "=================================================================\n",
      "time_distributed_1 (TimeDist (None, 200, 1024)         3228864   \n",
      "_________________________________________________________________\n",
      "time_distributed_2 (TimeDist (None, 200, 1024)         0         \n",
      "_________________________________________________________________\n",
      "lstm_1 (LSTM)                (None, 50)                215000    \n",
      "_________________________________________________________________\n",
      "dense_1 (Dense)              (None, 5)                 255       \n",
      "=================================================================\n",
      "Total params: 3,444,119\n",
      "Trainable params: 3,422,231\n",
      "Non-trainable params: 21,888\n",
      "_________________________________________________________________\n",
      "None\n",
      "Epoch 1/10\n",
      "3/3 [==============================] - 14s 5s/step - loss: 0.0999\n",
      "Epoch 2/10\n",
      "3/3 [==============================] - 4s 1s/step - loss: 0.0256\n",
      "Epoch 3/10\n",
      "3/3 [==============================] - 4s 1s/step - loss: 0.0322 \n",
      "Epoch 4/10\n",
      "3/3 [==============================] - 4s 1s/step - loss: 2.2450e-04\n",
      "Epoch 5/10\n",
      "3/3 [==============================] - 3s 1s/step - loss: 0.0950\n",
      "Epoch 6/10\n",
      "3/3 [==============================] - 4s 1s/step - loss: 0.0317 \n",
      "Epoch 7/10\n",
      "3/3 [==============================] - 4s 1s/step - loss: 0.0307\n",
      "Epoch 8/10\n",
      "3/3 [==============================] - 4s 1s/step - loss: 5.7881e-04\n",
      "Epoch 9/10\n",
      "3/3 [==============================] - 4s 1s/step - loss: 0.0625 \n",
      "Epoch 10/10\n",
      "3/3 [==============================] - 4s 1s/step - loss: 3.4437e-04\n"
     ]
    }
   ],
   "source": [
    "model = mySegNet(input_shape)\n",
    "model.fit_generator(generator=myGenerator(),\n",
    "                    use_multiprocessing=True,\n",
    "                   steps_per_epoch=3, epochs=10)\n",
    "model.save('model1.h5')\n",
    "model.save_weights('model_weights1.h5')"
   ]
  },
  {
   "cell_type": "code",
   "execution_count": null,
   "metadata": {},
   "outputs": [],
   "source": []
  }
 ],
 "metadata": {
  "kernelspec": {
   "display_name": "Python 3",
   "language": "python",
   "name": "python3"
  },
  "language_info": {
   "codemirror_mode": {
    "name": "ipython",
    "version": 3
   },
   "file_extension": ".py",
   "mimetype": "text/x-python",
   "name": "python",
   "nbconvert_exporter": "python",
   "pygments_lexer": "ipython3",
   "version": "3.5.2"
  }
 },
 "nbformat": 4,
 "nbformat_minor": 2
}
