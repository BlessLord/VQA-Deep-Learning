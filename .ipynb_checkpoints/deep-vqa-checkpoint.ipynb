{
 "cells": [
  {
   "cell_type": "code",
   "execution_count": 1,
   "metadata": {},
   "outputs": [
    {
     "name": "stderr",
     "output_type": "stream",
     "text": [
      "/usr/local/lib/python3.5/dist-packages/h5py/__init__.py:36: FutureWarning: Conversion of the second argument of issubdtype from `float` to `np.floating` is deprecated. In future, it will be treated as `np.float64 == np.dtype(float).type`.\n",
      "  from ._conv import register_converters as _register_converters\n",
      "Using TensorFlow backend.\n"
     ]
    }
   ],
   "source": [
    "from __future__ import absolute_import\n",
    "from __future__ import print_function\n",
    "import os\n",
    "import glob\n",
    "import random\n",
    "import numpy as np\n",
    "from keras import optimizers\n",
    "from keras.layers import LSTM\n",
    "from keras.models import Sequential, Model\n",
    "from keras.applications.vgg16 import VGG16\n",
    "from keras.layers.wrappers import TimeDistributed\n",
    "from keras.applications.mobilenet import MobileNet\n",
    "from keras.layers import Conv2D, MaxPooling2D, Dropout, Flatten, Dense, GlobalAveragePooling2D\n",
    "from keras.layers import Input, InputLayer\n",
    "from keras.layers.core import Activation, Flatten, Reshape\n",
    "from keras.layers.convolutional import Convolution2D, MaxPooling2D, UpSampling2D\n",
    "from keras.layers.normalization import BatchNormalization\n",
    "from keras.utils import np_utils\n",
    "from keras.applications import imagenet_utils"
   ]
  },
  {
   "cell_type": "code",
   "execution_count": 2,
   "metadata": {},
   "outputs": [],
   "source": [
    "videoFiles = glob.glob('../deep-dataset/numpys/*.npy')\n",
    "mosFiles = [i for i in videoFiles if 'mos' in i]\n",
    "videoFiles = [i for i in videoFiles if 'mos' not in i]"
   ]
  },
  {
   "cell_type": "code",
   "execution_count": 3,
   "metadata": {},
   "outputs": [],
   "source": [
    "def myGenerator():\n",
    "    while True:\n",
    "        index_list = random.sample(range(1, 800), 2)\n",
    "        alldata_x = []\n",
    "        alldata_y = []\n",
    "        for i in index_list:\n",
    "            #print(i, index_list)\n",
    "            f = videoFiles[i]\n",
    "            s = f[:-4]+'_mos.npy'\n",
    "            a = np.load(f)\n",
    "            b = np.load(s)\n",
    "            alldata_x.append(a)\n",
    "            alldata_y.append(b)\n",
    "        alldata_x = np.array(alldata_x)\n",
    "        alldata_y = np.array(alldata_y)\n",
    "        #print(alldata_x.shape, alldata_y.shape)\n",
    "        yield alldata_x, alldata_y\n",
    "# x = myGenerator()\n",
    "# xtrain, ytrain = next(x)\n",
    "# print('xtrain shape:',xtrain.shape)\n",
    "# print('ytrain shape:',ytrain.shape)"
   ]
  },
  {
   "cell_type": "code",
   "execution_count": 4,
   "metadata": {},
   "outputs": [
    {
     "name": "stdout",
     "output_type": "stream",
     "text": [
      "803\n",
      "(200, 68, 120, 3)\n"
     ]
    }
   ],
   "source": [
    "print(len(videoFiles))\n",
    "for i in videoFiles:\n",
    "    print(np.load(i).shape)\n",
    "    break"
   ]
  },
  {
   "cell_type": "code",
   "execution_count": 5,
   "metadata": {},
   "outputs": [],
   "source": [
    "height = 68\n",
    "width = 120\n",
    "input_shape=(200, height, width, 3)"
   ]
  },
  {
   "cell_type": "code",
   "execution_count": 14,
   "metadata": {},
   "outputs": [],
   "source": [
    "def mySegNet(input_shape):\n",
    "    base_model  = MobileNet(input_shape=(224,224,3), include_top=False)\n",
    "    x = base_model.output\n",
    "    x = GlobalAveragePooling2D()(x)\n",
    "    cnn_model = Model(inputs=base_model.input, outputs=x)\n",
    "    \n",
    "    model = Sequential();\n",
    "    #model.add(InputLayer(input_shape=input_shape))\n",
    "    model.add(TimeDistributed(cnn_model, input_shape=input_shape))\n",
    "    model.add(TimeDistributed(Flatten()))\n",
    "    #model.add(cnn_model)\n",
    "    #model.add(Flatten())\n",
    "    \n",
    "    model.add(LSTM(512, return_sequences=False))\n",
    "    model.add(Dense(5, activation='softmax'))\n",
    "    model.compile(optimizer='adam', loss='categorical_crossentropy')\n",
    "    print(model.summary())\n",
    "    return model \n",
    "#mySegNet(input_shape)"
   ]
  },
  {
   "cell_type": "code",
   "execution_count": 15,
   "metadata": {},
   "outputs": [
    {
     "name": "stdout",
     "output_type": "stream",
     "text": [
      "_________________________________________________________________\n",
      "Layer (type)                 Output Shape              Param #   \n",
      "=================================================================\n",
      "time_distributed_5 (TimeDist (None, 200, 1024)         3228864   \n",
      "_________________________________________________________________\n",
      "time_distributed_6 (TimeDist (None, 200, 1024)         0         \n",
      "_________________________________________________________________\n",
      "lstm_3 (LSTM)                (None, 512)               3147776   \n",
      "_________________________________________________________________\n",
      "dense_3 (Dense)              (None, 5)                 2565      \n",
      "=================================================================\n",
      "Total params: 6,379,205\n",
      "Trainable params: 6,357,317\n",
      "Non-trainable params: 21,888\n",
      "_________________________________________________________________\n",
      "None\n",
      "Epoch 1/50\n",
      "20/20 [==============================] - 39s 2s/step - loss: 1.7861\n",
      "Epoch 2/50\n",
      "20/20 [==============================] - 26s 1s/step - loss: 1.7062\n",
      "Epoch 3/50\n",
      "20/20 [==============================] - 26s 1s/step - loss: 1.4900\n",
      "Epoch 4/50\n",
      "20/20 [==============================] - 26s 1s/step - loss: 1.6686\n",
      "Epoch 5/50\n",
      "20/20 [==============================] - 26s 1s/step - loss: 1.5964\n",
      "Epoch 6/50\n",
      "20/20 [==============================] - 26s 1s/step - loss: 1.4959\n",
      "Epoch 7/50\n",
      "20/20 [==============================] - 26s 1s/step - loss: 1.3905\n",
      "Epoch 8/50\n",
      "20/20 [==============================] - 26s 1s/step - loss: 1.5056\n",
      "Epoch 9/50\n",
      "20/20 [==============================] - 26s 1s/step - loss: 1.6021\n",
      "Epoch 10/50\n",
      "20/20 [==============================] - 26s 1s/step - loss: 1.6000\n",
      "Epoch 11/50\n",
      "20/20 [==============================] - 26s 1s/step - loss: 1.5899\n",
      "Epoch 12/50\n",
      "20/20 [==============================] - 26s 1s/step - loss: 1.6614\n",
      "Epoch 13/50\n",
      "20/20 [==============================] - 26s 1s/step - loss: 1.5889\n",
      "Epoch 14/50\n",
      "20/20 [==============================] - 26s 1s/step - loss: 1.3870\n",
      "Epoch 15/50\n",
      "20/20 [==============================] - 26s 1s/step - loss: 1.5312\n",
      "Epoch 16/50\n",
      "20/20 [==============================] - 26s 1s/step - loss: 1.6098\n",
      "Epoch 17/50\n",
      "20/20 [==============================] - 26s 1s/step - loss: 1.6590\n",
      "Epoch 18/50\n",
      "20/20 [==============================] - 26s 1s/step - loss: 1.5728\n",
      "Epoch 19/50\n",
      "20/20 [==============================] - 26s 1s/step - loss: 1.4791\n",
      "Epoch 20/50\n",
      "20/20 [==============================] - 26s 1s/step - loss: 1.5959\n",
      "Epoch 21/50\n",
      "20/20 [==============================] - 26s 1s/step - loss: 1.4611\n",
      "Epoch 22/50\n",
      "20/20 [==============================] - 26s 1s/step - loss: 1.4936\n",
      "Epoch 23/50\n",
      "20/20 [==============================] - 26s 1s/step - loss: 1.6193\n",
      "Epoch 24/50\n",
      "20/20 [==============================] - 26s 1s/step - loss: 1.4714\n",
      "Epoch 25/50\n",
      "20/20 [==============================] - 26s 1s/step - loss: 1.5471\n",
      "Epoch 26/50\n",
      "20/20 [==============================] - 26s 1s/step - loss: 1.2444\n",
      "Epoch 27/50\n",
      "20/20 [==============================] - 26s 1s/step - loss: 1.5351\n",
      "Epoch 28/50\n",
      "20/20 [==============================] - 26s 1s/step - loss: 1.6978\n",
      "Epoch 29/50\n",
      "20/20 [==============================] - 26s 1s/step - loss: 1.4996\n",
      "Epoch 30/50\n",
      "20/20 [==============================] - 26s 1s/step - loss: 1.4692\n",
      "Epoch 31/50\n",
      "20/20 [==============================] - 26s 1s/step - loss: 1.6615\n",
      "Epoch 32/50\n",
      "20/20 [==============================] - 26s 1s/step - loss: 1.5436\n",
      "Epoch 33/50\n",
      "20/20 [==============================] - 26s 1s/step - loss: 1.7182\n",
      "Epoch 34/50\n",
      "20/20 [==============================] - 26s 1s/step - loss: 1.5036\n",
      "Epoch 35/50\n",
      "20/20 [==============================] - 26s 1s/step - loss: 1.5225\n",
      "Epoch 36/50\n",
      "20/20 [==============================] - 26s 1s/step - loss: 1.4942\n",
      "Epoch 37/50\n",
      "20/20 [==============================] - 26s 1s/step - loss: 1.5206\n",
      "Epoch 38/50\n",
      "20/20 [==============================] - 26s 1s/step - loss: 1.6515\n",
      "Epoch 39/50\n",
      "20/20 [==============================] - 26s 1s/step - loss: 1.6488\n",
      "Epoch 40/50\n",
      "20/20 [==============================] - 26s 1s/step - loss: 1.5255\n",
      "Epoch 41/50\n",
      "20/20 [==============================] - 26s 1s/step - loss: 1.4984\n",
      "Epoch 42/50\n",
      "20/20 [==============================] - 26s 1s/step - loss: 1.5344\n",
      "Epoch 43/50\n",
      "20/20 [==============================] - 26s 1s/step - loss: 1.4687\n",
      "Epoch 44/50\n",
      "20/20 [==============================] - 26s 1s/step - loss: 1.5790\n",
      "Epoch 45/50\n",
      "20/20 [==============================] - 26s 1s/step - loss: 1.5969\n",
      "Epoch 46/50\n",
      "20/20 [==============================] - 26s 1s/step - loss: 1.6090\n",
      "Epoch 47/50\n",
      "20/20 [==============================] - 26s 1s/step - loss: 1.5668\n",
      "Epoch 48/50\n",
      "20/20 [==============================] - 26s 1s/step - loss: 1.5602\n",
      "Epoch 49/50\n",
      "20/20 [==============================] - 26s 1s/step - loss: 1.5639\n",
      "Epoch 50/50\n",
      "20/20 [==============================] - 26s 1s/step - loss: 1.5591\n"
     ]
    },
    {
     "data": {
      "text/plain": [
       "<keras.callbacks.History at 0x7fbcd3166f98>"
      ]
     },
     "execution_count": 15,
     "metadata": {},
     "output_type": "execute_result"
    }
   ],
   "source": [
    "model = mySegNet(input_shape)\n",
    "model.fit_generator(generator=myGenerator(),\n",
    "                    use_multiprocessing=True,\n",
    "                   steps_per_epoch=20, epochs=50)\n",
    "# model.save('model1.h5')\n",
    "# model.save_weights('model_weights1.h5')"
   ]
  },
  {
   "cell_type": "code",
   "execution_count": null,
   "metadata": {},
   "outputs": [],
   "source": []
  }
 ],
 "metadata": {
  "kernelspec": {
   "display_name": "Python 3",
   "language": "python",
   "name": "python3"
  },
  "language_info": {
   "codemirror_mode": {
    "name": "ipython",
    "version": 3
   },
   "file_extension": ".py",
   "mimetype": "text/x-python",
   "name": "python",
   "nbconvert_exporter": "python",
   "pygments_lexer": "ipython3",
   "version": "3.5.2"
  }
 },
 "nbformat": 4,
 "nbformat_minor": 2
}
